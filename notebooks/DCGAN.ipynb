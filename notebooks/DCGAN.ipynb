{
 "cells": [
  {
   "cell_type": "code",
   "execution_count": 1,
   "metadata": {},
   "outputs": [],
   "source": [
    "import sys\n",
    "sys.path.insert(0,'./DCGAN-tensorflow')\n",
    "\n",
    "import os\n",
    "import scipy.misc\n",
    "import numpy as np\n",
    "\n",
    "from model import DCGAN\n",
    "from utils import pp, visualize, to_json, show_all_variables, save_images\n",
    "\n",
    "import tensorflow as tf\n"
   ]
  },
  {
   "cell_type": "code",
   "execution_count": 2,
   "metadata": {},
   "outputs": [],
   "source": [
    "input_width, input_height = 128, 128\n",
    "output_width, output_height = 128, 128\n",
    "batch_size = 64\n",
    "z_dim = 100\n",
    "dataset_name = 'landscape_128_128'\n",
    "\n",
    "run_config = tf.ConfigProto()\n",
    "run_config.gpu_options.allow_growth=True\n",
    "\n",
    "with tf.Session(config=run_config) as sess:\n",
    "  dcgan = DCGAN(\n",
    "      sess,\n",
    "      input_width=input_width,\n",
    "      input_height=input_height,\n",
    "      output_width=output_width,\n",
    "      output_height=output_height,\n",
    "      batch_size=batch_size,\n",
    "      sample_num=batch_size,\n",
    "      z_dim=z_dim,\n",
    "      dataset_name=dataset_name,\n",
    "      input_fname_pattern='*.jpg',\n",
    "      crop=False,\n",
    "      checkpoint_dir='./DCGAN-tensorflow/checkpoint',\n",
    "      sample_dir='.')\n"
   ]
  },
  {
   "cell_type": "code",
   "execution_count": 3,
   "metadata": {},
   "outputs": [
    {
     "name": "stdout",
     "output_type": "stream",
     "text": [
      " [*] Reading checkpoints...\n",
      "INFO:tensorflow:Restoring parameters from ./DCGAN-tensorflow/checkpoint/landscape_128_128_64_128_128/DCGAN.model-26002\n",
      " [*] Success to read DCGAN.model-26002\n"
     ]
    },
    {
     "data": {
      "text/plain": [
       "(True, 26002)"
      ]
     },
     "execution_count": 3,
     "metadata": {},
     "output_type": "execute_result"
    }
   ],
   "source": [
    "\n",
    "#dcgan.load('./DCGAN-tensorflow/checkpoint')\n",
    "dcgan.load(checkpoint_dir='./DCGAN-tensorflow/checkpoint')\n",
    "\n",
    "    "
   ]
  },
  {
   "cell_type": "code",
   "execution_count": 47,
   "metadata": {},
   "outputs": [
    {
     "name": "stdout",
     "output_type": "stream",
     "text": [
      "320\n"
     ]
    }
   ],
   "source": [
    "from __future__ import division\n",
    "import math\n",
    "import json\n",
    "import random\n",
    "import pprint\n",
    "import scipy.misc\n",
    "import numpy as np\n",
    "from time import gmtime, strftime\n",
    "from six.moves import xrange\n",
    "\n",
    "import tensorflow as tf\n",
    "import tensorflow.contrib.slim as slim\n",
    "\n",
    "image_frame_dim = int(math.ceil(batch_size**.5))\n",
    "z_sample = np.random.uniform(-1.0, 1.0, size=(batch_size, dcgan.z_dim))\n",
    "\n",
    "\n",
    "\n",
    "def sample_progression(dcgan, n):\n",
    "    z1 = np.random.uniform(-1, 1, size=(dcgan.z_dim))\n",
    "    samples = []\n",
    "    for i in range(n):\n",
    "        z2 = np.random.uniform(-1, 1, size=(dcgan.z_dim))\n",
    "        zs = np.array([ (1.0-t)*z1 + t*z2  for t in np.linspace(0, 1, dcgan.batch_size)])\n",
    "        samples.append(sess.run(dcgan.sampler, feed_dict={dcgan.z: zs}))\n",
    "        z1 = z2\n",
    "    return samples\n",
    "        \n",
    "        \n",
    "#z1 = np.random.uniform(-1, 1, size=(dcgan.z_dim))\n",
    "#z2 = np.random.uniform(-1, 1, size=(dcgan.z_dim))\n",
    "#z_sample = np.array([ (1.0-t)*z1 + t*z2  for t in np.linspace(0, 1, batch_size)])\n",
    "\n",
    "#samples = sess.run(dcgan.sampler, feed_dict={dcgan.z: z_sample})\n",
    "\n",
    "samples= sample_progression(dcgan, 5)\n",
    "#save_images(samples, [image_frame_dim, image_frame_dim], './samples/test_%s.png' % strftime(\"%Y-%m-%d-%H-%M-%S\", gmtime()))\n",
    "\n",
    "samples = [s for segment in samples for s in segment]\n",
    "\n",
    "print(len(samples))"
   ]
  },
  {
   "cell_type": "code",
   "execution_count": 35,
   "metadata": {},
   "outputs": [],
   "source": [
    "save_images(samples, [image_frame_dim, image_frame_dim], './samples/test_%s.png' % strftime(\"%Y-%m-%d-%H-%M-%S\", gmtime()))"
   ]
  },
  {
   "cell_type": "code",
   "execution_count": 51,
   "metadata": {},
   "outputs": [
    {
     "name": "stdout",
     "output_type": "stream",
     "text": [
      "[MoviePy] >>>> Building video test5.mp4\n",
      "[MoviePy] Writing video test5.mp4\n"
     ]
    },
    {
     "name": "stderr",
     "output_type": "stream",
     "text": [
      "\n",
      "\n",
      "\n",
      "\n",
      "\n",
      "\r",
      "  0%|          | 0/321 [00:00<?, ?it/s]\u001b[A\u001b[A\u001b[A\u001b[A\u001b[A\n",
      "\n",
      "\n",
      "\n",
      "\n",
      "\r",
      " 16%|█▌        | 51/321 [00:00<00:00, 504.74it/s]\u001b[A\u001b[A\u001b[A\u001b[A\u001b[A\n",
      "\n",
      "\n",
      "\n",
      "\n",
      "\r",
      " 51%|█████     | 164/321 [00:00<00:00, 605.15it/s]\u001b[A\u001b[A\u001b[A\u001b[A\u001b[A\n",
      "\n",
      "\n",
      "\n",
      "\n",
      "\r",
      " 87%|████████▋ | 278/321 [00:00<00:00, 703.41it/s]\u001b[A\u001b[A\u001b[A\u001b[A\u001b[A\n",
      "\n",
      "\n",
      "\n",
      "\n",
      "\r",
      "100%|██████████| 321/321 [00:00<00:00, 944.26it/s]"
     ]
    },
    {
     "name": "stdout",
     "output_type": "stream",
     "text": [
      "[MoviePy] Done.\n",
      "[MoviePy] >>>> Video ready: test5.mp4 \n",
      "\n"
     ]
    },
    {
     "name": "stderr",
     "output_type": "stream",
     "text": [
      "\u001b[A\u001b[A\u001b[A\u001b[A\u001b[A"
     ]
    }
   ],
   "source": [
    "#samples[0]\n",
    "\n",
    "import moviepy.editor as mpy\n",
    "\n",
    "def make_frame(t):\n",
    "    nf, fps = 320, 30\n",
    "    x = samples[int(min(nf-1, fps*t))]\n",
    "    return ((x+1)/2*255).astype(np.uint8)\n",
    "\n",
    "clip = mpy.VideoClip(make_frame, duration=10.6667)\n",
    "clip.write_videofile('test5.mp4', fps=30)"
   ]
  },
  {
   "cell_type": "code",
   "execution_count": 18,
   "metadata": {},
   "outputs": [
    {
     "data": {
      "text/plain": [
       "(128, 128, 3)"
      ]
     },
     "execution_count": 18,
     "metadata": {},
     "output_type": "execute_result"
    }
   ],
   "source": [
    "samples[0].astype('uint8').shape"
   ]
  },
  {
   "cell_type": "code",
   "execution_count": null,
   "metadata": {},
   "outputs": [],
   "source": []
  }
 ],
 "metadata": {
  "kernelspec": {
   "display_name": "Python 3",
   "language": "python",
   "name": "python3"
  },
  "language_info": {
   "codemirror_mode": {
    "name": "ipython",
    "version": 3
   },
   "file_extension": ".py",
   "mimetype": "text/x-python",
   "name": "python",
   "nbconvert_exporter": "python",
   "pygments_lexer": "ipython3",
   "version": "3.6.3"
  }
 },
 "nbformat": 4,
 "nbformat_minor": 2
}
