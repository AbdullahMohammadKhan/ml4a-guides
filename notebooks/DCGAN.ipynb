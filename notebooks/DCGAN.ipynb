{
 "cells": [
  {
   "cell_type": "code",
   "execution_count": 1,
   "metadata": {},
   "outputs": [
    {
     "name": "stderr",
     "output_type": "stream",
     "text": [
      "/home/paperspace/anaconda3/envs/py27/lib/python2.7/site-packages/h5py/__init__.py:34: FutureWarning: Conversion of the second argument of issubdtype from `float` to `np.floating` is deprecated. In future, it will be treated as `np.float64 == np.dtype(float).type`.\n",
      "  from ._conv import register_converters as _register_converters\n"
     ]
    },
    {
     "name": "stdout",
     "output_type": "stream",
     "text": [
      "WARNING:tensorflow:From /home/paperspace/.local/lib/python2.7/site-packages/tensorflow/contrib/learn/python/learn/datasets/base.py:198: retry (from tensorflow.contrib.learn.python.learn.datasets.base) is deprecated and will be removed in a future version.\n",
      "Instructions for updating:\n",
      "Use the retry module or similar alternatives.\n"
     ]
    }
   ],
   "source": [
    "import sys\n",
    "sys.path.insert(0,'../tools/DCGAN-tensorflow')\n",
    "\n",
    "import os\n",
    "import scipy.misc\n",
    "import numpy as np\n",
    "from matplotlib import pyplot as plt\n",
    "\n",
    "import tensorflow as tf\n",
    "import tensorflow.contrib.slim as slim\n",
    "\n",
    "from model import DCGAN\n",
    "from utils import pp, visualize, to_json, show_all_variables, save_images"
   ]
  },
  {
   "cell_type": "code",
   "execution_count": 2,
   "metadata": {},
   "outputs": [
    {
     "name": "stdout",
     "output_type": "stream",
     "text": [
      "('GO data path is ', '../tools/DCGAN-tensorflow/datasets/eyes_collected_128/*.jpg')\n",
      " [*] Reading checkpoints...\n",
      "INFO:tensorflow:Restoring parameters from ../tools/DCGAN-tensorflow/checkpoints/eyes_collected_128_64_128_128/DCGAN.model-15502\n",
      " [*] Success to read DCGAN.model-15502\n"
     ]
    },
    {
     "data": {
      "text/plain": [
       "(True, 15502)"
      ]
     },
     "execution_count": 2,
     "metadata": {},
     "output_type": "execute_result"
    }
   ],
   "source": [
    "input_width, input_height = 128, 128\n",
    "output_width, output_height = 128, 128\n",
    "batch_size = 64\n",
    "z_dim = 100\n",
    "crop = False\n",
    "dataset_name = 'eyes_collected_128'\n",
    "checkpoint_dir = '../tools/DCGAN-tensorflow/checkpoints'\n",
    "data_dir = '../tools/DCGAN-tensorflow/datasets/'\n",
    "sample_dir = '../tools/DCGAN-tensorflow/samples'\n",
    "\n",
    "run_config = tf.ConfigProto()\n",
    "run_config.gpu_options.allow_growth=True\n",
    "\n",
    "with tf.Session(config=run_config) as sess:\n",
    "  dcgan = DCGAN(sess,\n",
    "      input_width=input_width,\n",
    "      input_height=input_height,\n",
    "      output_width=output_width,\n",
    "      output_height=output_height,\n",
    "      batch_size=batch_size,\n",
    "      sample_num=batch_size,\n",
    "      z_dim=z_dim,\n",
    "      dataset_name=dataset_name,\n",
    "      input_fname_pattern='*.jpg',\n",
    "      crop=crop,\n",
    "      checkpoint_dir=checkpoint_dir,\n",
    "      data_dir=data_dir,\n",
    "      sample_dir=sample_dir)\n",
    "\n",
    "dcgan.load(checkpoint_dir=checkpoint_dir)"
   ]
  },
  {
   "cell_type": "code",
   "execution_count": 8,
   "metadata": {},
   "outputs": [],
   "source": [
    "def sample_progression(dcgan, n):\n",
    "    z1 = np.random.uniform(-1, 1, size=(dcgan.z_dim))\n",
    "    samples = []\n",
    "    for i in range(n):\n",
    "        z2 = np.random.uniform(-1, 1, size=(dcgan.z_dim))\n",
    "        zs = np.array([ (1.0-t)*z1 + t*z2  for t in np.linspace(0, 1, dcgan.batch_size)])\n",
    "        samples.append(sess.run(dcgan.sampler, feed_dict={dcgan.z: zs}))\n",
    "        z1 = z2\n",
    "    samples = [s for segment in samples for s in segment]\n",
    "    return samples    \n",
    "\n",
    "def inverse_transform(x):\n",
    "    return (x + 1.0) / 2.0\n",
    "    \n",
    "def display(sample):\n",
    "    s = inverse_transform(sample)\n",
    "    s = np.array(255.0*s).astype(np.uint8)\n",
    "    plt.imshow(s, interpolation='nearest')\n",
    "    plt.show()\n"
   ]
  },
  {
   "cell_type": "code",
   "execution_count": 35,
   "metadata": {},
   "outputs": [],
   "source": [
    "\n",
    "# one way to make z_sample, interpolate between two endpoints\n",
    "z1 = np.random.uniform(-1, 1, size=(dcgan.z_dim))\n",
    "z2 = np.random.uniform(-1, 1, size=(dcgan.z_dim))\n",
    "z_sample = np.array([ (1.0-t)*z1 + t*z2  for t in np.linspace(0, 1, batch_size)])\n",
    "\n",
    "\n",
    "# sample_progression will do the above N times (e.g. N=12, as in below) \n",
    "samples = sample_progression(dcgan, 12)\n",
    "\n",
    "display(samples[0])\n",
    "# for i in range(1,64):\n",
    "#     display(samples[i])\n",
    "    \n",
    "#showarray(np.array(samples[0]))\n",
    "#print(samples[0].dtype)\n",
    "print(len(samples))\n"
   ]
  },
  {
   "cell_type": "code",
   "execution_count": 5,
   "metadata": {},
   "outputs": [
    {
     "name": "stdout",
     "output_type": "stream",
     "text": [
      "[MoviePy] >>>> Building video test_eyes.mp4\n",
      "[MoviePy] Writing video test_eyes.mp4\n"
     ]
    },
    {
     "name": "stderr",
     "output_type": "stream",
     "text": [
      "\r",
      "  0%|          | 0/769 [00:00<?, ?it/s]\r",
      " 17%|█▋        | 134/769 [00:00<00:00, 1327.35it/s]\r",
      " 37%|███▋      | 288/769 [00:00<00:00, 1432.46it/s]\r",
      " 61%|██████    | 467/769 [00:00<00:00, 1550.94it/s]\r",
      " 84%|████████▎ | 643/769 [00:00<00:00, 1602.72it/s]\r",
      "100%|█████████▉| 768/769 [00:00<00:00, 1494.62it/s]"
     ]
    },
    {
     "name": "stdout",
     "output_type": "stream",
     "text": [
      "[MoviePy] Done.\n",
      "[MoviePy] >>>> Video ready: test_eyes.mp4 \n",
      "\n"
     ]
    },
    {
     "name": "stderr",
     "output_type": "stream",
     "text": [
      "\n"
     ]
    }
   ],
   "source": [
    "import moviepy.editor as mpy\n",
    "\n",
    "def make_frame(t):\n",
    "    nf, fps = 768, 30\n",
    "    x = samples[int(min(nf-1, fps*t))]\n",
    "    return ((x+1.)/2.*255).astype(np.uint8)\n",
    "\n",
    "\n",
    "clip = mpy.VideoClip(make_frame, duration=25.6)\n",
    "clip.write_videofile('test_eyes.mp4', fps=30)"
   ]
  },
  {
   "cell_type": "code",
   "execution_count": 3,
   "metadata": {},
   "outputs": [
    {
     "name": "stdout",
     "output_type": "stream",
     "text": [
      "(64, 100)\n",
      "(64, 100)\n"
     ]
    }
   ],
   "source": [
    "\n",
    "    \n",
    "def sample_progression(dcgan, n):\n",
    "    z1 = np.random.uniform(-1, 1, size=(dcgan.z_dim))\n",
    "    samples = []\n",
    "    for i in range(n):\n",
    "        z2 = np.random.uniform(-1, 1, size=(dcgan.z_dim))\n",
    "        zs = np.array([ (1.0-t)*z1 + t*z2  for t in np.linspace(0, 1, dcgan.batch_size)])\n",
    "        samples.append(sess.run(dcgan.sampler, feed_dict={dcgan.z: zs}))\n",
    "        z1 = z2\n",
    "    samples = [s for segment in samples for s in segment]\n",
    "    return samples    \n",
    "\n",
    "def inverse_transform(x):\n",
    "    return (x + 1.0) / 2.0\n",
    "    \n",
    "def display(sample):\n",
    "    s = inverse_transform(sample)\n",
    "    s = np.array(255.0*s).astype(np.uint8)\n",
    "    plt.imshow(s, interpolation='nearest')\n",
    "    plt.show()\n",
    "\n",
    "      \n",
    "z1 = np.random.uniform(-1, 1, size=(dcgan.z_dim))\n",
    "z2 = np.random.uniform(-1, 1, size=(dcgan.z_dim))\n",
    "z_sample = np.array([ (1.0-t)*z1 + t*z2  for t in np.linspace(0, 1, batch_size)])\n",
    "\n",
    "print(z_sample.shape)\n",
    "\n",
    "z_sample = np.random.uniform(-1.0, 1.0, size=(64, dcgan.z_dim))\n",
    "print(z_sample.shape)\n",
    "\n",
    "samples = sess.run(dcgan.sampler, feed_dict={dcgan.z: z_sample})\n"
   ]
  },
  {
   "cell_type": "code",
   "execution_count": null,
   "metadata": {},
   "outputs": [],
   "source": []
  }
 ],
 "metadata": {
  "kernelspec": {
   "display_name": "Python 2",
   "language": "python",
   "name": "python2"
  },
  "language_info": {
   "codemirror_mode": {
    "name": "ipython",
    "version": 2
   },
   "file_extension": ".py",
   "mimetype": "text/x-python",
   "name": "python",
   "nbconvert_exporter": "python",
   "pygments_lexer": "ipython2",
   "version": "2.7.14"
  }
 },
 "nbformat": 4,
 "nbformat_minor": 2
}
